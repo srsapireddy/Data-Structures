{
  "nbformat": 4,
  "nbformat_minor": 0,
  "metadata": {
    "colab": {
      "provenance": []
    },
    "kernelspec": {
      "name": "python3",
      "display_name": "Python 3"
    },
    "language_info": {
      "name": "python"
    }
  },
  "cells": [
    {
      "cell_type": "markdown",
      "source": [
        "Append"
      ],
      "metadata": {
        "id": "-moQZLtYNQz6"
      }
    },
    {
      "cell_type": "code",
      "execution_count": 3,
      "metadata": {
        "colab": {
          "base_uri": "https://localhost:8080/"
        },
        "id": "Px3k95ReDQUz",
        "outputId": "ffd23c76-e82e-4b02-9454-7acf18aaa48c"
      },
      "outputs": [
        {
          "output_type": "stream",
          "name": "stdout",
          "text": [
            "[1, 2, 3, 4, 5, 6, 7, 8, 9, 10, 11, 12]\n"
          ]
        }
      ],
      "source": [
        "my_list = [1, 2, 3, 4, 5, 6, 7, 8, 9, 10]\n",
        "\n",
        "my_list.append(11)\n",
        "my_list.append(12)\n",
        "\n",
        "print(my_list)\n",
        "\n",
        "# Time Complexity: O(1)\n",
        "# Time complexity of resizing the entire array: O(n)\n",
        "# The amount of effort required to move the array grows proportionally to the size of the array"
      ]
    },
    {
      "cell_type": "markdown",
      "source": [
        "Insert"
      ],
      "metadata": {
        "id": "3hb72fzKNFSD"
      }
    },
    {
      "cell_type": "code",
      "source": [
        "my_list.insert(0, 0)\n",
        "print(my_list)\n",
        "\n",
        "# Time Complexity: O(n)\n",
        "# As resizing the array will happen with the insert as we are displacing all the elements in the array. So O(n) will happen when we insert at the first index."
      ],
      "metadata": {
        "colab": {
          "base_uri": "https://localhost:8080/"
        },
        "id": "bP_-Ic_cJXKO",
        "outputId": "8a9aec80-df87-412b-88ee-3806ed80ec23"
      },
      "execution_count": 5,
      "outputs": [
        {
          "output_type": "stream",
          "name": "stdout",
          "text": [
            "[0, 0, 1, 2, 3, 4, 5, 6, 7, 8, 9, 10, 11, 12]\n"
          ]
        }
      ]
    },
    {
      "cell_type": "markdown",
      "source": [
        "Pop"
      ],
      "metadata": {
        "id": "ptEhyXlKNIvx"
      }
    },
    {
      "cell_type": "code",
      "source": [
        "my_list.pop(0)\n",
        "print(my_list)\n",
        "\n",
        "# Time Complexity: O(n)\n",
        "# As we are displacing all the elements in the array. So O(n) will happen when we pop at the first index. With one exception with one element at the last one.\n",
        "# Time complexity: O(1) when we remove the last element in the array. Because we are accessing the last element in the array in the constant time and there are no other element after that which would require reindexing.\n"
      ],
      "metadata": {
        "colab": {
          "base_uri": "https://localhost:8080/"
        },
        "id": "RfrJbxo2KpjV",
        "outputId": "f9cc473c-21eb-4c34-a62d-71eb21ae4ccf"
      },
      "execution_count": 6,
      "outputs": [
        {
          "output_type": "stream",
          "name": "stdout",
          "text": [
            "[0, 1, 2, 3, 4, 5, 6, 7, 8, 9, 10, 11, 12]\n"
          ]
        }
      ]
    },
    {
      "cell_type": "markdown",
      "source": [
        "Accessing the elements in array"
      ],
      "metadata": {
        "id": "x2VagZxoNEIU"
      }
    },
    {
      "cell_type": "code",
      "source": [
        "my_list[3]\n",
        "# Time complexity: O(1)"
      ],
      "metadata": {
        "colab": {
          "base_uri": "https://localhost:8080/"
        },
        "id": "sb43hOkbL0JY",
        "outputId": "caa6d5ba-113c-4458-8d47-09dd66d0131d"
      },
      "execution_count": 7,
      "outputs": [
        {
          "output_type": "execute_result",
          "data": {
            "text/plain": [
              "3"
            ]
          },
          "metadata": {},
          "execution_count": 7
        }
      ]
    }
  ]
}