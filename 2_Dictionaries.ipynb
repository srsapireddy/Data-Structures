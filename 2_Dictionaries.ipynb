{
  "nbformat": 4,
  "nbformat_minor": 0,
  "metadata": {
    "colab": {
      "provenance": []
    },
    "kernelspec": {
      "name": "python3",
      "display_name": "Python 3"
    },
    "language_info": {
      "name": "python"
    }
  },
  "cells": [
    {
      "cell_type": "markdown",
      "source": [
        "Dictionaries"
      ],
      "metadata": {
        "id": "s5AqLfrRQiSH"
      }
    },
    {
      "cell_type": "code",
      "execution_count": 1,
      "metadata": {
        "colab": {
          "base_uri": "https://localhost:8080/"
        },
        "id": "76yb-FyhNZcM",
        "outputId": "b1dce4ad-1fe3-4255-c6d5-64f626d12c09"
      },
      "outputs": [
        {
          "output_type": "execute_result",
          "data": {
            "text/plain": [
              "30"
            ]
          },
          "metadata": {},
          "execution_count": 1
        }
      ],
      "source": [
        "user = [\"Michael\", \"Scott\", 30]\n",
        "user[0]\n",
        "user[2]"
      ]
    },
    {
      "cell_type": "code",
      "source": [
        "user = {\"first_name\": \"Michael\", \"last_name\": \"Scott\", \"age\": 30}\n",
        "user[\"first_name\"]\n",
        "user[\"age\"]"
      ],
      "metadata": {
        "colab": {
          "base_uri": "https://localhost:8080/"
        },
        "id": "Q8xyipfoQvHJ",
        "outputId": "7fa6f667-94a7-4b1f-ef67-bbf5f63f971a"
      },
      "execution_count": 2,
      "outputs": [
        {
          "output_type": "execute_result",
          "data": {
            "text/plain": [
              "30"
            ]
          },
          "metadata": {},
          "execution_count": 2
        }
      ]
    },
    {
      "cell_type": "markdown",
      "source": [
        "Adding an element"
      ],
      "metadata": {
        "id": "QnYarwRKDaxS"
      }
    },
    {
      "cell_type": "code",
      "source": [
        "user = {\"first_name\": \"Michael\", \"middle name\": \"Gary\", \"last_name\": \"Scott\", \"age\": 30, \"date_of_birth\": \"06.20.1971\"}\n",
        "user[\"date_of_birth\"] = \"03.15.1965\"\n",
        "\n",
        "# Time complexity: O(1) in both cases. We dont need to iterate over the contents of the dictionary as there is no order in the key"
      ],
      "metadata": {
        "id": "mThvnUb4RLfQ"
      },
      "execution_count": 1,
      "outputs": []
    },
    {
      "cell_type": "markdown",
      "source": [
        "Removing an element"
      ],
      "metadata": {
        "id": "Tjq7xNt4Ddho"
      }
    },
    {
      "cell_type": "code",
      "source": [
        "user.pop(\"date_of_birth\") # Goes to the location where the key is stored and just removes it. No iteration and no extra steps.\n",
        "del user[\"age\"]"
      ],
      "metadata": {
        "id": "PUWznhZXBn7b"
      },
      "execution_count": 2,
      "outputs": []
    },
    {
      "cell_type": "code",
      "source": [
        "user.keys()"
      ],
      "metadata": {
        "colab": {
          "base_uri": "https://localhost:8080/"
        },
        "id": "Gw1msEydCVlD",
        "outputId": "49c3e02b-862c-4d59-db0d-d03123bc0efe"
      },
      "execution_count": 4,
      "outputs": [
        {
          "output_type": "execute_result",
          "data": {
            "text/plain": [
              "dict_keys(['first_name', 'middle name', 'last_name'])"
            ]
          },
          "metadata": {},
          "execution_count": 4
        }
      ]
    },
    {
      "cell_type": "code",
      "source": [
        "user.values()\n"
      ],
      "metadata": {
        "colab": {
          "base_uri": "https://localhost:8080/"
        },
        "id": "hB0ThzqlCf0a",
        "outputId": "2d22eed6-89e5-42aa-9582-dc9d13dfde8a"
      },
      "execution_count": 5,
      "outputs": [
        {
          "output_type": "execute_result",
          "data": {
            "text/plain": [
              "dict_values(['Michael', 'Gary', 'Scott'])"
            ]
          },
          "metadata": {},
          "execution_count": 5
        }
      ]
    },
    {
      "cell_type": "code",
      "source": [
        "user.items()"
      ],
      "metadata": {
        "colab": {
          "base_uri": "https://localhost:8080/"
        },
        "id": "QHVW95DLC_IO",
        "outputId": "37afeba6-b933-4efc-f6d7-406d93844d1c"
      },
      "execution_count": 6,
      "outputs": [
        {
          "output_type": "execute_result",
          "data": {
            "text/plain": [
              "dict_items([('first_name', 'Michael'), ('middle name', 'Gary'), ('last_name', 'Scott')])"
            ]
          },
          "metadata": {},
          "execution_count": 6
        }
      ]
    }
  ]
}