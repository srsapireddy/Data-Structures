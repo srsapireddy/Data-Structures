{
  "nbformat": 4,
  "nbformat_minor": 0,
  "metadata": {
    "colab": {
      "provenance": []
    },
    "kernelspec": {
      "name": "python3",
      "display_name": "Python 3"
    },
    "language_info": {
      "name": "python"
    }
  },
  "cells": [
    {
      "cell_type": "markdown",
      "source": [
        "**Implementation**"
      ],
      "metadata": {
        "id": "c3OWMyghfhxz"
      }
    },
    {
      "cell_type": "code",
      "source": [
        "from types import new_class\n",
        "class Node:\n",
        "  def __init__(self,value):\n",
        "    self.value = value\n",
        "    self.left = None\n",
        "    self.right = None\n",
        "\n",
        "class BinarySearchTree:\n",
        "  def __init__(self):\n",
        "    self.root = None\n",
        "\n",
        "  def insert(self,value):\n",
        "    new_node = Node(value)\n",
        "    if not self.root:\n",
        "      self.root = new_node\n",
        "      return self\n",
        "    current_node = self.root\n",
        "    while value != current_node.value:\n",
        "      if value < current_node.value:\n",
        "        if not current_node.left:\n",
        "          current_node.left = new_node\n",
        "          break\n",
        "          current_node = current_node.left\n",
        "      else:\n",
        "        if not current_node.right:\n",
        "          current_node.right = new_node\n",
        "          break\n",
        "          current_node = current_node.right\n",
        "    return self\n",
        "\n",
        "  def contains(self,value):\n",
        "    current_node = self.root\n",
        "    while current_node:\n",
        "        if value == current_node.value:\n",
        "          return True\n",
        "        if value < current_node.left\n",
        "          current_node = current_node.left\n",
        "        else:\n",
        "          current_node = current_node.right\n",
        "    return False\n",
        "\n",
        "  # Detecting the node to be removed\n",
        "  def remove(self, value, start: None, parent: None):\n",
        "    current = start or self.root\n",
        "    while current and current.value != value:\n",
        "      parent = current\n",
        "      if value < current.value:\n",
        "        current = parent.left\n",
        "      else:\n",
        "        current = parent.right\n",
        "    if not current:\n",
        "      raise Exception(\"item not in tree\")\n",
        "    # To check if the current node is the leaf and verifiying that both the right and left children dont exist\n",
        "    if not current.right and not current.left:\n",
        "      return self._remove_node_no_children(current, parent)\n",
        "    if current.right and current.left:\n",
        "      return self._remove_node_tow_children(current)\n",
        "    return self._remove_node_one_child(current,parent)\n",
        "\n",
        "  # Remove node with no children (removing the leaf)\n",
        "  def _remove_node_no_children(self, current, parent):\n",
        "    if current is self.root:\n",
        "      self.root = None\n",
        "      return self\n",
        "    if parent.left == current:\n",
        "      parent.left = None\n",
        "    else:\n",
        "      parent.right = None\n",
        "    return self\n",
        "\n",
        "  # Remove node with one child\n",
        "  def _remove_node_one_child(self, current, parent):\n",
        "    if current is self.root:\n",
        "      self.root = current.right if current.right else current.left\n",
        "      return self\n",
        "    if parent.right == current:\n",
        "      parent.right = current.right if current.right else current.left\n",
        "    else:\n",
        "      parent.left = current.right if current.right else current.left\n",
        "    return self\n",
        "\n",
        "  # Remove node with two children\n",
        "  def _remove_node_two_children(self,current):\n",
        "    successor = self._get_successor(current)\n",
        "    current.value = successor.value\n",
        "    return self.remove(successor.value, start=current.right, parent=current)\n",
        "\n",
        "  @staticmethod\n",
        "  def _get_successor(current):\n",
        "    successor = current.right\n",
        "    while successor and successor.left:\n",
        "      successor = successor.left\n",
        "    return successor\n",
        "\n",
        "\n",
        "my_tree = BinarySearchTree()\n",
        "my_tree.insert(20)\n",
        "my_tree.insert(19)\n",
        "my_tree.insert(21)\n",
        "print(my_tree.root.value)\n",
        "\n",
        "## Insert Method:\n",
        "# Time complexity: O(1) The variable reassignment we do inside the while loop dosse not consume more memory. We are just updating the same one over and over again so we dont keep the old values.\n",
        "# Space complexity:\n",
        "### Best: O(logn) For a perfectly balanced tree. Here with one comparison for the new node with the root we can exclude the half of the values of the tree. And the same thing happens for the sub-trees.\n",
        "### Worst: O(n) Example: Tree structure like a stick\n",
        "\n",
        "## Contains Method:\n",
        "# Time complexity:\n",
        "## Best: O(logn)\n",
        "## Worst: 0(n)\n",
        "# Space complexity: O(1)\n",
        "\n",
        "## Remove Method:\n",
        "# Time complexity:\n",
        "## Best: O(log n) Here we are doing searching 3 times (3 times O(log n))\n",
        "## Worst: O(n) Here we are doing searching 3 times (3 times O(n))\n",
        "# Space complexity: O(1)"
      ],
      "metadata": {
        "id": "qiZXcbRUKPL2",
        "colab": {
          "base_uri": "https://localhost:8080/"
        },
        "outputId": "931150ea-8b59-48f6-d97b-fe5559289920"
      },
      "execution_count": null,
      "outputs": [
        {
          "output_type": "stream",
          "name": "stdout",
          "text": [
            "20\n"
          ]
        }
      ]
    },
    {
      "cell_type": "code",
      "source": [],
      "metadata": {
        "id": "VEKmc6nJoCen"
      },
      "execution_count": null,
      "outputs": []
    }
  ]
}