{
  "nbformat": 4,
  "nbformat_minor": 0,
  "metadata": {
    "colab": {
      "provenance": []
    },
    "kernelspec": {
      "name": "python3",
      "display_name": "Python 3"
    },
    "language_info": {
      "name": "python"
    }
  },
  "cells": [
    {
      "cell_type": "markdown",
      "source": [
        "1. Call Stack and Function Execution"
      ],
      "metadata": {
        "id": "LADvOmFS39Qx"
      }
    },
    {
      "cell_type": "code",
      "execution_count": 1,
      "metadata": {
        "colab": {
          "base_uri": "https://localhost:8080/"
        },
        "id": "-76cMpdSXzkn",
        "outputId": "cb90aae4-9f57-42d0-8792-9da2298a5336"
      },
      "outputs": [
        {
          "output_type": "stream",
          "name": "stdout",
          "text": [
            "red\n",
            "green\n",
            "blue\n"
          ]
        }
      ],
      "source": [
        "def green():\n",
        "  color = \"jade\"\n",
        "  print(\"green\")\n",
        "\n",
        "def red():\n",
        "  color = \"crimson\"\n",
        "  print(\"red\")\n",
        "  green()\n",
        "\n",
        "def blue():\n",
        "  red()\n",
        "  print(\"blue\")\n",
        "\n",
        "blue()"
      ]
    },
    {
      "cell_type": "markdown",
      "source": [
        "2. Recursion - Factorial of a number"
      ],
      "metadata": {
        "id": "ZhYwrJeD_xZh"
      }
    },
    {
      "cell_type": "code",
      "source": [
        "def factorial(n):\n",
        "  if n == 0:\n",
        "    return 1\n",
        "  else:\n",
        "    return n * factorial(n-1)\n",
        "\n",
        "factorial(4)"
      ],
      "metadata": {
        "colab": {
          "base_uri": "https://localhost:8080/"
        },
        "id": "GjntlXGs4bUq",
        "outputId": "f70033c7-02e1-4baf-8384-b4d989da90ff"
      },
      "execution_count": 2,
      "outputs": [
        {
          "output_type": "execute_result",
          "data": {
            "text/plain": [
              "24"
            ]
          },
          "metadata": {},
          "execution_count": 2
        }
      ]
    },
    {
      "cell_type": "markdown",
      "source": [
        "3. Fibonacci sequence"
      ],
      "metadata": {
        "id": "X7eYeWDhGRIk"
      }
    },
    {
      "cell_type": "code",
      "source": [
        "def fib(n):\n",
        "  if n<=2:\n",
        "    return 1\n",
        "  else:\n",
        "    return fib(n-1) + fib(n-2)\n",
        "\n",
        "fib(6)"
      ],
      "metadata": {
        "colab": {
          "base_uri": "https://localhost:8080/"
        },
        "id": "wfNzS9cn_6k9",
        "outputId": "6318df94-291f-4ee7-ff11-045a2a36ff47"
      },
      "execution_count": 3,
      "outputs": [
        {
          "output_type": "execute_result",
          "data": {
            "text/plain": [
              "8"
            ]
          },
          "metadata": {},
          "execution_count": 3
        }
      ]
    },
    {
      "cell_type": "markdown",
      "source": [
        "4. Recursion - Product of numbers in array"
      ],
      "metadata": {
        "id": "zVu-fUmvX41F"
      }
    },
    {
      "cell_type": "code",
      "source": [
        "def array_product(arr):\n",
        "  total = 1\n",
        "  for n in arr:\n",
        "    total *= n\n",
        "  return total\n",
        "\n",
        "array_product([1,2,3,4])"
      ],
      "metadata": {
        "colab": {
          "base_uri": "https://localhost:8080/"
        },
        "id": "1Gb9uh_gHQTw",
        "outputId": "16687b60-ddf0-42d2-adec-0c62ed5c0f48"
      },
      "execution_count": 4,
      "outputs": [
        {
          "output_type": "execute_result",
          "data": {
            "text/plain": [
              "24"
            ]
          },
          "metadata": {},
          "execution_count": 4
        }
      ]
    },
    {
      "cell_type": "markdown",
      "source": [
        "4. Iteration - Product of numbers in array"
      ],
      "metadata": {
        "id": "z7SmywoAYEOL"
      }
    },
    {
      "cell_type": "code",
      "source": [
        "def array_product(arr):\n",
        "  if not arr:\n",
        "    return 1\n",
        "  else:\n",
        "    return arr[0] * array_product(arr[1:])\n",
        "\n",
        "array_product([1,2,3,4])"
      ],
      "metadata": {
        "colab": {
          "base_uri": "https://localhost:8080/"
        },
        "id": "J4z7_HGdYCvu",
        "outputId": "e6fe94d5-f431-4307-8fc2-b5c3698cb3b2"
      },
      "execution_count": 5,
      "outputs": [
        {
          "output_type": "execute_result",
          "data": {
            "text/plain": [
              "24"
            ]
          },
          "metadata": {},
          "execution_count": 5
        }
      ]
    },
    {
      "cell_type": "markdown",
      "source": [
        "Big O of Recursive Functions"
      ],
      "metadata": {
        "id": "TBLDILnvrJZb"
      }
    },
    {
      "cell_type": "code",
      "source": [
        "def a(n):\n",
        "  if n <= 1:\n",
        "    return\n",
        "  a(n-1)\n",
        "\n",
        "a(6)\n",
        "\n",
        "# Rate at which we are moving towards the base case will tell us the complexity of the recursive calls\n",
        "# input: 1 2 3 4 5 6\n",
        "# Time Complexity: O(n) as we are calling the recursive function n times. Here we are calling a() on all the numbers from 6 to 1\n",
        "# Space Complexity: O(n) there is nothing added to the memory. With loop we didnt have any extra memory usage. But stack frames has to be accounted when we use space complexity.\n",
        "# Here the number of stack frames is equal to the input size. So space utilization will increase by order of n."
      ],
      "metadata": {
        "id": "SLtrpH8JYN28"
      },
      "execution_count": 1,
      "outputs": []
    },
    {
      "cell_type": "code",
      "source": [
        "def b(n):\n",
        "  if n <= 1:\n",
        "    return\n",
        "  b(n-1)\n",
        "\n",
        "b(6)\n",
        "\n",
        "# Time: O(n/2) ~ O(n)\n",
        "# Space: O(n/2) ~ O(n)"
      ],
      "metadata": {
        "id": "uI65rYwarUh4"
      },
      "execution_count": 2,
      "outputs": []
    },
    {
      "cell_type": "code",
      "source": [
        "def c(n):\n",
        "  if n <= 1:\n",
        "    return\n",
        "  c(n/2)\n",
        "\n",
        "c(6)\n",
        "\n",
        "# Time: O(log n)\n",
        "# Space: O(log n)"
      ],
      "metadata": {
        "id": "ErjYhuO1tIYl"
      },
      "execution_count": 3,
      "outputs": []
    },
    {
      "cell_type": "code",
      "source": [
        "def d(n):\n",
        "  if n <= 1:\n",
        "    return\n",
        "  d(n-1)\n",
        "  d(n-1)\n",
        "\n",
        "d(6)\n",
        "\n",
        "# Time: O(2^n)\n",
        "# Space: O(n)"
      ],
      "metadata": {
        "id": "PgWWdvWGuD-t"
      },
      "execution_count": 5,
      "outputs": []
    },
    {
      "cell_type": "code",
      "source": [
        "def f(n):\n",
        "  if n<=1:\n",
        "    return\n",
        "  for _ in range(n):\n",
        "    ...\n",
        "  f(n-1)\n",
        "\n",
        "f(6)\n",
        "\n",
        "# Time: O(n^2) Here the stack frames are the outer loops and the iterations inside them are the inner loops. n number of recursive calls * n loops in each of them\n",
        "# Space: O(n)  As loop is not adding anything extra memory for this function"
      ],
      "metadata": {
        "id": "8ntroUunuIis"
      },
      "execution_count": 8,
      "outputs": []
    },
    {
      "cell_type": "code",
      "source": [
        "def g(n):\n",
        "  if n<=1:\n",
        "    return\n",
        "  for _ in range(n):\n",
        "    ...\n",
        "  g(n/2)\n",
        "\n",
        "g(6)\n",
        "\n",
        "# Time: O(n log n)\n",
        "# Space: O(log n)"
      ],
      "metadata": {
        "id": "cr2bfSWIx90C"
      },
      "execution_count": null,
      "outputs": []
    }
  ]
}