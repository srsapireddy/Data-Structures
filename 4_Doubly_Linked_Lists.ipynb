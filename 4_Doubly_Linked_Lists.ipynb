{
  "nbformat": 4,
  "nbformat_minor": 0,
  "metadata": {
    "colab": {
      "provenance": []
    },
    "kernelspec": {
      "name": "python3",
      "display_name": "Python 3"
    },
    "language_info": {
      "name": "python"
    }
  },
  "cells": [
    {
      "cell_type": "markdown",
      "source": [
        "Implementation"
      ],
      "metadata": {
        "id": "POE0HEsChZUl"
      }
    },
    {
      "cell_type": "code",
      "execution_count": 3,
      "metadata": {
        "colab": {
          "base_uri": "https://localhost:8080/"
        },
        "id": "Vjzh1zcKW_Vz",
        "outputId": "48b84295-0e8d-4551-de85-d90f143fb772"
      },
      "outputs": [
        {
          "output_type": "stream",
          "name": "stdout",
          "text": [
            "<__main__.DoublyLinkedList object at 0x7ee9b9571000>\n",
            "1\n",
            "2\n",
            "2\n"
          ]
        }
      ],
      "source": [
        "class Node:\n",
        "    def __init__(self, value):\n",
        "        self.value = value\n",
        "        self.next = None\n",
        "        self.previous = None\n",
        "\n",
        "class DoublyLinkedList:\n",
        "    def __init__(self): # self is a reference to the instance being created\n",
        "        self.head = None\n",
        "        self.tail = None\n",
        "        self._length = 0\n",
        "\n",
        "    # Append\n",
        "    def append(self, value):\n",
        "        new_node = Node(value)\n",
        "        if not self._length:\n",
        "            self.head = self.tail = new_node\n",
        "        else:\n",
        "            self.tail.next = new_node\n",
        "            new_node.previous = self.tail\n",
        "            self.tail = new_node\n",
        "        self._length += 1\n",
        "        return self\n",
        "\n",
        "    # prepend\n",
        "    def prepend(self, value):\n",
        "        new_node = Node(value)\n",
        "        if not self._length:\n",
        "            self.head = self.tail = new_node\n",
        "        else:\n",
        "            new_node.next = self.head\n",
        "            self.head.previous = new_node\n",
        "            self.head = new_node\n",
        "        self._length += 1\n",
        "        return self\n",
        "\n",
        "    # pop left\n",
        "    def pop_left(self):\n",
        "      if not self._length:\n",
        "        raise Exception(\"list is empty\")\n",
        "      formet_head = self.head\n",
        "      if self._length == 1:\n",
        "        self.head = self.tail = None\n",
        "      else:\n",
        "        self.head = formet_head.next\n",
        "        formet_head.next = None\n",
        "        self.head.previous= None\n",
        "      self._length -= 1\n",
        "      return formet_head.value\n",
        "\n",
        "    # pop right\n",
        "    def pop_right(self):\n",
        "      if not self._length:\n",
        "        raise Exception(\"list is empty\")\n",
        "      former_tail = self.tail\n",
        "      if self._length == 1:\n",
        "        self.head = self.tail = None\n",
        "      else:\n",
        "        self.tail = former_tail.previous\n",
        "        former_tail.previous = None\n",
        "        self.tail.next = None\n",
        "      self._length -= 1\n",
        "      return former_tail.value\n",
        "\n",
        "    # Remove\n",
        "    def remove(self,value):\n",
        "      if not self._length:\n",
        "        raise Exception(\"list is empty\")\n",
        "      if self.head.value == value:\n",
        "        return self.pop_left()\n",
        "      previous_node = self.head\n",
        "      current_node = self.head.next\n",
        "      while current_node is not None and current_node.value != value:\n",
        "        previous_node = current_node\n",
        "        current_node = current_node.next\n",
        "      if current_node is None:\n",
        "        raise Exception(\"item not in list\")\n",
        "      if current_node.next is None:\n",
        "        return self.pop_right()\n",
        "      current_node.next.previous = previous_node\n",
        "      previous_node.next = current_node.next\n",
        "      current_node.previous = None\n",
        "      current_node.next = None\n",
        "      self._length -= 1\n",
        "      return current_node.value\n",
        "\n",
        "\n",
        "my_list = DoublyLinkedList()\n",
        "my_list.append(1)\n",
        "my_list.append(2)\n",
        "my_list.append(3)\n",
        "my_list.append(4)\n",
        "my_list.prepend(0)\n",
        "my_list.pop_left()\n",
        "my_list.pop_right()\n",
        "my_list.remove(3)\n",
        "\n",
        "print(my_list)\n",
        "print(my_list.head.value)\n",
        "print(my_list.tail.value)\n",
        "print(my_list._length)\n",
        "\n",
        "## Append Method:\n",
        "# Time complexity: O(1)\n",
        "# Space complexity: O(1)\n",
        "\n",
        "## Prepend Method:\n",
        "# Time complexity: O(1)\n",
        "# Space complexity: O(1)\n",
        "\n",
        "## Pop Left Method:\n",
        "# Time complexity: O(1)\n",
        "# Space complexity: O(1)\n",
        "\n",
        "## Pop Right Method:\n",
        "# Time complexity: O(1)\n",
        "# Space complexity: O(1)"
      ]
    },
    {
      "cell_type": "code",
      "source": [],
      "metadata": {
        "id": "rS0ZIWNHj4Rb"
      },
      "execution_count": null,
      "outputs": []
    }
  ]
}