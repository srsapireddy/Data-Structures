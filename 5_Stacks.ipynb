{
  "nbformat": 4,
  "nbformat_minor": 0,
  "metadata": {
    "colab": {
      "provenance": []
    },
    "kernelspec": {
      "name": "python3",
      "display_name": "Python 3"
    },
    "language_info": {
      "name": "python"
    }
  },
  "cells": [
    {
      "cell_type": "markdown",
      "source": [
        "**Array Implementation**"
      ],
      "metadata": {
        "id": "DYL-bs3_D32P"
      }
    },
    {
      "cell_type": "code",
      "execution_count": 4,
      "metadata": {
        "colab": {
          "base_uri": "https://localhost:8080/"
        },
        "id": "S00wJ7HGD1lZ",
        "outputId": "f22668a1-17bb-4319-9bc8-e0e1cc4398f4"
      },
      "outputs": [
        {
          "output_type": "stream",
          "name": "stdout",
          "text": [
            "[3]\n"
          ]
        }
      ],
      "source": [
        "stack = []\n",
        "\n",
        "stack.append(3)\n",
        "stack.append(4)\n",
        "stack.pop()\n",
        "stack.append(5)\n",
        "stack.append(6)\n",
        "stack.pop()\n",
        "stack.pop()\n",
        "\n",
        "print(stack)\n"
      ]
    },
    {
      "cell_type": "markdown",
      "source": [
        "**Linked List Implementation**"
      ],
      "metadata": {
        "id": "tmhGGAlVFgoE"
      }
    },
    {
      "cell_type": "code",
      "source": [
        "from types import new_class\n",
        "class Node:\n",
        "  def __init__(self,value):\n",
        "    self.value = value\n",
        "    self.next = None\n",
        "\n",
        "class Stack:\n",
        "  def __init__(self):\n",
        "    self._top = None\n",
        "    self._size = 0\n",
        "    self._max_size_allowed = 10\n",
        "\n",
        "  def __len__(self):\n",
        "    return self._size\n",
        "\n",
        "  def push(self,value):\n",
        "    if self._max_size_allowed == self._size:\n",
        "      raise Exception(\"list is full\")\n",
        "    new_element = Node(value)\n",
        "    new_element.next = self._top\n",
        "    self._top = new_element\n",
        "    self._size += 1\n",
        "    return self\n",
        "\n",
        "  def pop(self):\n",
        "    if not self._size:\n",
        "      raise Exception(\"stack is empty\")\n",
        "    former_node = self._top\n",
        "    self._top = former_node.next\n",
        "    former_node.next = None\n",
        "    self._size -= 1\n",
        "    return former_node.value\n",
        "\n",
        "  def peek(self):\n",
        "    if self._top:\n",
        "      return self._top.value\n",
        "    return None\n",
        "\n",
        "  def clear(self):\n",
        "    self._top = None\n",
        "    self._size = 0\n",
        "    return self\n",
        "\n",
        "\n",
        "\n",
        "my_list = Stack()\n",
        "my_list.push(3)\n",
        "my_list.push(\"google\")\n",
        "my_list.push(4)\n",
        "my_list.pop()\n",
        "print(my_list.peek())\n",
        "print(my_list)\n",
        "print(my_list._top.value)\n",
        "print(my_list._size)\n",
        "print(my_list.peek())\n",
        "print(len(my_list))\n"
      ],
      "metadata": {
        "colab": {
          "base_uri": "https://localhost:8080/"
        },
        "id": "1VDkeqK7Ej90",
        "outputId": "4b16e0ea-4694-4bbd-fe06-b49b9eab2550"
      },
      "execution_count": 16,
      "outputs": [
        {
          "output_type": "stream",
          "name": "stdout",
          "text": [
            "google\n",
            "<__main__.Stack object at 0x78302c83b250>\n",
            "google\n",
            "2\n",
            "google\n",
            "2\n"
          ]
        }
      ]
    }
  ]
}