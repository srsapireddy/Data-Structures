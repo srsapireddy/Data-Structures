{
  "nbformat": 4,
  "nbformat_minor": 0,
  "metadata": {
    "colab": {
      "provenance": []
    },
    "kernelspec": {
      "name": "python3",
      "display_name": "Python 3"
    },
    "language_info": {
      "name": "python"
    }
  },
  "cells": [
    {
      "cell_type": "markdown",
      "source": [
        "**Linked List Implementation**"
      ],
      "metadata": {
        "id": "nSSImHZxknSH"
      }
    },
    {
      "cell_type": "code",
      "execution_count": null,
      "metadata": {
        "id": "KIMLhb7BUlHE"
      },
      "outputs": [],
      "source": [
        "class Node:\n",
        "  def __init__(self,value):\n",
        "    self.value = value\n",
        "    self.next = None\n",
        "\n",
        "class Queue:\n",
        "  def __init__(self):\n",
        "    self._head = None\n",
        "    self._tail = None\n",
        "    self._size = 0\n",
        "\n",
        "  def __len__(self):\n",
        "    return self._size\n",
        "\n",
        "  # Enqueue\n",
        "  def enqueue(self, value):\n",
        "    new_node = Node(value)\n",
        "    if not self._size:\n",
        "        self.head = self.tail = new_node\n",
        "    else:\n",
        "        self.tail.next = new_node\n",
        "        self.tail = new_node\n",
        "    self._size += 1\n",
        "    return self\n",
        "\n",
        "  # Dequeue\n",
        "  def dequeue(self):\n",
        "    if not self._size:\n",
        "        raise Exception(\"queue is empty\")\n",
        "    former_head = self.head\n",
        "    self.head = former_head.next\n",
        "    former_head.next = None\n",
        "    self._size -= 1\n",
        "    if not self._size:\n",
        "        self.tail = None\n",
        "    return former_head.value\n",
        "\n",
        "  # Clear\n",
        "  def clear(self):\n",
        "    self.head = None\n",
        "    self.tail = None\n",
        "    self._size = 0\n",
        "    return self\n",
        "\n",
        "  # Peek\n",
        "  def peek(self):\n",
        "    return self._head.value if self._head else None"
      ]
    }
  ]
}